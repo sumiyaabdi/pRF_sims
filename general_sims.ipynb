{
 "cells": [
  {
   "cell_type": "code",
   "execution_count": null,
   "id": "c3101d0f",
   "metadata": {},
   "outputs": [],
   "source": [
    "from sklearn.linear_model import LogisticRegression\n",
    "from sklearn.model_selection import cross_val_score\n",
    "import matplotlib.pyplot as plt\n",
    "import numpy as np"
   ]
  },
  {
   "cell_type": "markdown",
   "id": "b18f391c",
   "metadata": {},
   "source": [
    "# Simulate GLM\n",
    "\n",
    "$$y_{n}= \\theta x_{n}+\\epsilon_{n}$$\n",
    "\n",
    "Where $ y $ is a vector of the target variables (e.g. positions of the bar), $ \\theta $ is a matrix of weights corresponding to each"
   ]
  },
  {
   "cell_type": "code",
   "execution_count": null,
   "id": "66f53f41",
   "metadata": {},
   "outputs": [],
   "source": [
    "def generate_samples_and_labels(var):\n",
    "    inputs1 = []\n",
    "    inputs2 = []\n",
    "    inputs3 = []\n",
    "\n",
    "    n_trials = 100\n",
    "\n",
    "    for _ in range(n_trials):\n",
    "        inputs1.append(np.array([1, 1, 1, 0, 0, 0, 0, 0, 0]) + np.random.normal(0,var, 9))\n",
    "        inputs2.append(np.array([0, 0, 0, 1, 1, 1, 0, 0, 0]) + np.random.normal(0,var, 9))\n",
    "        inputs3.append(np.array([0, 0, 0, 0, 0, 0, 1, 1, 1]) + np.random.normal(0,var, 9))\n",
    "\n",
    "    X = np.vstack([np.array(inputs1), np.array(inputs2), np.array(inputs3)])\n",
    "    y = np.concatenate(([0]*n_trials,[1]*n_trials, [2]*n_trials))  # multinomial\n",
    "#     y = np.concatenate(([0]*n_trials,[0]*n_trials, [1]*n_trials))  # logistic\n",
    "    \n",
    "    return X, y"
   ]
  },
  {
   "cell_type": "code",
   "execution_count": null,
   "id": "ab72b9a3",
   "metadata": {},
   "outputs": [],
   "source": [
    "X, y = generate_samples_and_labels(var=0.8)\n",
    "plt.pcolor(X)\n",
    "plt.title(\"X\")\n",
    "plt.colorbar()\n",
    "\n",
    "plt.figure()\n",
    "visy = np.hstack((np.array([y]).T, np.array([y]).T))\n",
    "plt.title('y')\n",
    "plt.pcolormesh(visy)\n",
    "plt.colorbar()"
   ]
  },
  {
   "cell_type": "code",
   "execution_count": null,
   "id": "a99df57c",
   "metadata": {},
   "outputs": [],
   "source": [
    "# First define the model\n",
    "log_reg = LogisticRegression(penalty='l2')\n",
    "\n",
    "#Then fit it to data\n",
    "log_reg.fit(X, y)\n",
    "\n",
    "acc_train = np.mean(log_reg.predict(X)==y)\n",
    "print(\"Accuracy for training set =\", acc_train)\n",
    "predictions = log_reg.predict(X)"
   ]
  },
  {
   "cell_type": "code",
   "execution_count": null,
   "id": "d04d9f8d",
   "metadata": {},
   "outputs": [],
   "source": [
    "kfold=8\n",
    "accuracies = cross_val_score(LogisticRegression(penalty='none'), X, y, cv=kfold) # k=8 crossvalidation\n",
    "\n",
    "f, ax = plt.subplots(figsize=(8, 3))\n",
    "ax.boxplot(accuracies, vert=False, widths=.7)\n",
    "ax.scatter(accuracies, np.ones(kfold))\n",
    "ax.set(\n",
    "  xlabel=\"Accuracy\",\n",
    "  yticks=[],\n",
    "  title=f\"Average test accuracy: {accuracies.mean():.2%}\"\n",
    ")\n",
    "ax.spines[\"left\"].set_visible(False)"
   ]
  },
  {
   "cell_type": "markdown",
   "id": "09bbf41a",
   "metadata": {},
   "source": [
    "Best predictors (i.e. coefficients with highest values)."
   ]
  },
  {
   "cell_type": "code",
   "execution_count": 18,
   "id": "b39cfc5e",
   "metadata": {},
   "outputs": [
    {
     "data": {
      "text/plain": [
       "<matplotlib.colorbar.Colorbar at 0x12abf39a0>"
      ]
     },
     "execution_count": 18,
     "metadata": {},
     "output_type": "execute_result"
    },
    {
     "data": {
      "image/png": "[encoded data removed]",
      "text/plain": [
       "<Figure size 432x288 with 2 Axes>"
      ]
     },
     "metadata": {
      "needs_background": "light"
     },
     "output_type": "display_data"
    }
   ],
   "source": [
    "plt.pcolormesh(log_reg.coef_)\n",
    "plt.colorbar()"
   ]
  }
 ],
 "metadata": {
  "kernelspec": {
   "display_name": "Python 3",
   "language": "python",
   "name": "python3"
  },
  "language_info": {
   "codemirror_mode": {
    "name": "ipython",
    "version": 3
   },
   "file_extension": ".py",
   "mimetype": "text/x-python",
   "name": "python",
   "nbconvert_exporter": "python",
   "pygments_lexer": "ipython3",
   "version": "3.8.5"
  }
 },
 "nbformat": 4,
 "nbformat_minor": 5
}
